{
 "cells": [
  {
   "cell_type": "code",
   "execution_count": 1,
   "metadata": {
    "collapsed": true
   },
   "outputs": [],
   "source": [
    "import dash\n",
    "import dash_core_components as dcc\n",
    "import dash_html_components as html\n",
    "\n",
    "app = dash.Dash()\n",
    "\n",
    "colors = {'background':'#111111', 'text':'#7FDBFF'}\n",
    "\n",
    "app.layout = html.Div(children=[\n",
    "            html.H1('Hello Dash!', style={'textAlign':'center',\n",
    "                                         'color':colors['text']}),\n",
    "    \n",
    "            dcc.Graph(id='example',\n",
    "                    figure={'data':[\n",
    "                    {'x':[1, 2, 3], 'y':[4, 1, 2], 'type':'bar', 'name':'SF'},\n",
    "                    {'x':[1, 2, 3], 'y':[2, 4, 5], 'type':'bar', 'name':'NYC'},\n",
    "                    ],\n",
    "                            'layout':{\n",
    "                            'plot_bgcolor':colors['background'],\n",
    "                            'paper_bgcolor':colors['background'],\n",
    "                            'font':{'color':colors['text']},\n",
    "                            'title':'BAR PLOTS!'\n",
    "                            }})\n",
    "], style={'backgroundColor':colors['background']}\n",
    ")\n",
    "\n",
    "# if __name__ == '__main__':\n",
    "#     app.run_server()"
   ]
  },
  {
   "cell_type": "code",
   "execution_count": null,
   "metadata": {
    "collapsed": true
   },
   "outputs": [],
   "source": []
  }
 ],
 "metadata": {
  "kernelspec": {
   "display_name": "Python 3",
   "language": "python",
   "name": "python3"
  },
  "language_info": {
   "codemirror_mode": {
    "name": "ipython",
    "version": 3
   },
   "file_extension": ".py",
   "mimetype": "text/x-python",
   "name": "python",
   "nbconvert_exporter": "python",
   "pygments_lexer": "ipython3",
   "version": "3.6.3"
  }
 },
 "nbformat": 4,
 "nbformat_minor": 2
}
